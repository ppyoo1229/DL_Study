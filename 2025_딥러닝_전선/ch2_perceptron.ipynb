{
 "cells": [
  {
   "cell_type": "markdown",
   "id": "a26b27d3-4e5d-400d-97b9-d4ddfae55a3f",
   "metadata": {},
   "source": [
    "# Perceptron\n",
    "- 가장 기본적인 형태의 인공신경망(Artificial Neural Network)\n",
    "- 이진 분류(binary classification) 문제를 해결하는 데 쓰임\n",
    "- 입력 신호가 뉴런데 보내질 때 각각 고유한 가중치가 곱해짐\n",
    "- 입력을 주면 정해진 규칙에 따른 값을 출력함 : 입력값과 가중치를 곱해서 모두 더한 뒤 어떠한 기준값을 넘으면 1, 그렇지 않으면 0출력\n",
    "- 펄셉트론의 구성요소 : 입력값(input)/ 가중치(weight)/ 가중합(weighted sum)/ 활성화 함수(activation function)/ 출력(output)\n",
    "- 가중치와 편향을 매개변수로 설정\n",
    "- 가중치가 클수록 해당 신호는 더 중요함\n",
    "- AND, OR 게이트 등의 논리 회로 표현 가능\n",
    "- 선형적으로 나눌 수 없는 문제(XOR게이트)는 단층 퍼셉트론으로 해결 불가능\n",
    "- 다층 퍼셉트로 이용시 해결가능 "
   ]
  },
  {
   "cell_type": "markdown",
   "id": "3d98beea-291b-45fd-aeb3-c816e8346cef",
   "metadata": {},
   "source": [
    "# 단순한 논리 회로\n",
    "## #AND 게이트\n",
    "- 두 입력이 모두 1일때만 1일 출력\n",
    "- 나머지 경우 모두 0을 출력"
   ]
  },
  {
   "cell_type": "code",
   "execution_count": 1,
   "id": "2ad52553-c0d6-4af1-93b7-c1178a166306",
   "metadata": {},
   "outputs": [],
   "source": [
    "import numpy as np"
   ]
  },
  {
   "cell_type": "code",
   "execution_count": 2,
   "id": "66c9f52b-e233-436a-9865-bcfe632706fd",
   "metadata": {},
   "outputs": [],
   "source": [
    "def AND(x1, x2):\n",
    "    w1, w2, theta = 0.5, 0.5, 0.7 # 매개변수 w1, w2, theta는 함수 안에서 초기화\n",
    "    tmp = x1*w2 + x2*w2\n",
    "    if tmp <= theta: # 가중치를 곱한 입력의 총합이 임계값을 넘기면 1, 그 외 0 출\n",
    "        return 0\n",
    "    elif tmp > theta:\n",
    "        return 1\n",
    "    else:\n",
    "        print(\"AND method Error\")"
   ]
  },
  {
   "cell_type": "code",
   "execution_count": 3,
   "id": "b99f9808-cbca-46c8-aac2-2f9d5ed4c3ae",
   "metadata": {},
   "outputs": [
    {
     "data": {
      "text/plain": [
       "0"
      ]
     },
     "execution_count": 3,
     "metadata": {},
     "output_type": "execute_result"
    }
   ],
   "source": [
    "AND(0, 0)"
   ]
  },
  {
   "cell_type": "code",
   "execution_count": 4,
   "id": "dd4a7913-cb71-4a43-9d94-a914873f08f9",
   "metadata": {},
   "outputs": [
    {
     "data": {
      "text/plain": [
       "0"
      ]
     },
     "execution_count": 4,
     "metadata": {},
     "output_type": "execute_result"
    }
   ],
   "source": [
    "AND(1, 0)"
   ]
  },
  {
   "cell_type": "code",
   "execution_count": 5,
   "id": "f38a0e90-dbdb-44a9-b7a9-d02b887359b1",
   "metadata": {},
   "outputs": [
    {
     "data": {
      "text/plain": [
       "0"
      ]
     },
     "execution_count": 5,
     "metadata": {},
     "output_type": "execute_result"
    }
   ],
   "source": [
    "AND(0, 1)"
   ]
  },
  {
   "cell_type": "code",
   "execution_count": 6,
   "id": "c2212688-a038-4196-941f-4ae3fd6aeed6",
   "metadata": {},
   "outputs": [
    {
     "data": {
      "text/plain": [
       "1"
      ]
     },
     "execution_count": 6,
     "metadata": {},
     "output_type": "execute_result"
    }
   ],
   "source": [
    "AND(1, 1)"
   ]
  },
  {
   "cell_type": "markdown",
   "id": "90eb948f-ec1f-4aa3-8158-018ab06826ed",
   "metadata": {},
   "source": [
    "## # NAND 게이트\n",
    "- 두 입력이 모두 1일 때만 0을 출력\n",
    "- 나머지 경우 모두 1을 출력"
   ]
  },
  {
   "cell_type": "code",
   "execution_count": 7,
   "id": "1e5cc251-1d2d-4d1c-849d-cc397460c1c0",
   "metadata": {},
   "outputs": [],
   "source": [
    "def NAND(x1, x2):\n",
    "    x = np.array([x1, x2])\n",
    "    w = np.array([-0.5, -0.5])\n",
    "    b = 0.7\n",
    "    tmp = np.sum(x*w) + b\n",
    "    if tmp <= 0:\n",
    "        print(0)\n",
    "    else:\n",
    "        print(1)"
   ]
  },
  {
   "cell_type": "code",
   "execution_count": 8,
   "id": "7bd78438-0c24-4d37-a9da-c11d96413950",
   "metadata": {},
   "outputs": [
    {
     "name": "stdout",
     "output_type": "stream",
     "text": [
      "1\n"
     ]
    }
   ],
   "source": [
    "NAND(0, 0)"
   ]
  },
  {
   "cell_type": "code",
   "execution_count": 9,
   "id": "79c47fdf-7e9d-4d03-a8a0-11f4951c0900",
   "metadata": {},
   "outputs": [
    {
     "name": "stdout",
     "output_type": "stream",
     "text": [
      "1\n"
     ]
    }
   ],
   "source": [
    "NAND(0, 1)"
   ]
  },
  {
   "cell_type": "code",
   "execution_count": 10,
   "id": "0ae1cc79-901d-46e1-a6cd-15b42baec481",
   "metadata": {},
   "outputs": [
    {
     "name": "stdout",
     "output_type": "stream",
     "text": [
      "1\n"
     ]
    }
   ],
   "source": [
    "NAND(1, 0)"
   ]
  },
  {
   "cell_type": "code",
   "execution_count": 11,
   "id": "793c13f2-7aa8-405e-ad63-5dd067aede85",
   "metadata": {},
   "outputs": [
    {
     "name": "stdout",
     "output_type": "stream",
     "text": [
      "0\n"
     ]
    }
   ],
   "source": [
    "NAND(1, 1)"
   ]
  },
  {
   "cell_type": "markdown",
   "id": "f5f72b2e-f6ba-4151-bf32-dda8a35ed7bd",
   "metadata": {},
   "source": [
    "## # OR 게이트\n",
    "- 두 입력이 모두 0일 때만 0을 출력\n",
    "- 나머지 경우 모두 1을 출력"
   ]
  },
  {
   "cell_type": "code",
   "execution_count": 12,
   "id": "d411f118-ce79-49b4-aee6-d734e03e403a",
   "metadata": {},
   "outputs": [],
   "source": [
    "def OR(x1, x2):\n",
    "    x = np.array([x1, x2])\n",
    "    w = np.array([0.5, 0.5])\n",
    "    b = -0.2\n",
    "    tmp = np.sum(x*w) + b\n",
    "    if tmp <= 0:\n",
    "        print(0)\n",
    "    else:\n",
    "        print(1)"
   ]
  },
  {
   "cell_type": "code",
   "execution_count": 13,
   "id": "8a047bf0-d362-45ce-83b6-953ddb41621c",
   "metadata": {},
   "outputs": [
    {
     "name": "stdout",
     "output_type": "stream",
     "text": [
      "0\n"
     ]
    }
   ],
   "source": [
    "OR(0, 0)"
   ]
  },
  {
   "cell_type": "code",
   "execution_count": 14,
   "id": "b224fed8-0080-4eb2-a410-d190f5f9cb35",
   "metadata": {},
   "outputs": [
    {
     "name": "stdout",
     "output_type": "stream",
     "text": [
      "1\n"
     ]
    }
   ],
   "source": [
    "OR(0, 1)"
   ]
  },
  {
   "cell_type": "code",
   "execution_count": 15,
   "id": "d9d6758b-124d-4bf3-b9e4-98363ce11604",
   "metadata": {},
   "outputs": [
    {
     "name": "stdout",
     "output_type": "stream",
     "text": [
      "1\n"
     ]
    }
   ],
   "source": [
    "OR(1, 0)"
   ]
  },
  {
   "cell_type": "code",
   "execution_count": 16,
   "id": "439d593c-0424-48f5-8a3d-aa9843b3bdb9",
   "metadata": {},
   "outputs": [
    {
     "name": "stdout",
     "output_type": "stream",
     "text": [
      "1\n"
     ]
    }
   ],
   "source": [
    "OR(1, 1)"
   ]
  },
  {
   "cell_type": "markdown",
   "id": "362a1d4f-df10-446b-aa0e-8072b8ba4a02",
   "metadata": {},
   "source": [
    "# 가중치와 편향 도입"
   ]
  },
  {
   "cell_type": "code",
   "execution_count": 17,
   "id": "f049c8bb-d883-4320-8dd4-bafad4bffc63",
   "metadata": {},
   "outputs": [
    {
     "data": {
      "text/plain": [
       "array([0. , 0.5])"
      ]
     },
     "execution_count": 17,
     "metadata": {},
     "output_type": "execute_result"
    }
   ],
   "source": [
    "x = np.array([0, 1]) #입력\n",
    "w = np.array([0.5, 0.5]) #가중치\n",
    "b = -0.7 #편향\n",
    "w * x"
   ]
  },
  {
   "cell_type": "code",
   "execution_count": 18,
   "id": "1b50aacf-9232-4773-a4fa-651d1cc79f45",
   "metadata": {},
   "outputs": [
    {
     "data": {
      "text/plain": [
       "0.5"
      ]
     },
     "execution_count": 18,
     "metadata": {},
     "output_type": "execute_result"
    }
   ],
   "source": [
    "np.sum(w * x)"
   ]
  },
  {
   "cell_type": "code",
   "execution_count": 19,
   "id": "2b8e4d06-84d9-4581-a73c-b62f34e16d7c",
   "metadata": {},
   "outputs": [
    {
     "data": {
      "text/plain": [
       "-0.19999999999999996"
      ]
     },
     "execution_count": 19,
     "metadata": {},
     "output_type": "execute_result"
    }
   ],
   "source": [
    "np.sum(w * x) + b #결과값이 -.2 로 나오지 않는 이유는 부동소수점을 사용하기 때문"
   ]
  },
  {
   "cell_type": "markdown",
   "id": "1b0522c7-fd7d-4e43-bf97-0874b0ce60e8",
   "metadata": {},
   "source": [
    "# 가중치와 편향 도입하여 게이트 구현"
   ]
  },
  {
   "cell_type": "markdown",
   "id": "e9251261-ca1b-4400-93c1-19d4b20eee01",
   "metadata": {},
   "source": [
    "## # AND 구현"
   ]
  },
  {
   "cell_type": "code",
   "execution_count": 20,
   "id": "1413c5e7-0888-40b8-ad7f-ac392411b204",
   "metadata": {},
   "outputs": [],
   "source": [
    "# AND구현 : -theta가 b로 치환됨\n",
    "# 편향의 값은 뉴런이 얼마나 쉽게 활성화되는지를 결정 \n",
    "def AND(x1, x2):\n",
    "    x = np.array([x1, x2])\n",
    "    w = np.array([0.5, 0.5]) \n",
    "    b = -0.7\n",
    "    \n",
    "    tmp = np.sum(w * x) + b\n",
    "    \n",
    "    if tmp <= 0:\n",
    "        return 0\n",
    "    else:\n",
    "        return 1"
   ]
  },
  {
   "cell_type": "markdown",
   "id": "ad57ffc5-7858-4581-954d-e0e8c37296c9",
   "metadata": {},
   "source": [
    "## # NAND 구현"
   ]
  },
  {
   "cell_type": "code",
   "execution_count": 21,
   "id": "0e4cd244-6ed8-49ad-adcc-ba48483af078",
   "metadata": {},
   "outputs": [],
   "source": [
    "# NAND 구현\n",
    "def NAND(x1, x2):\n",
    "    x = np.array([x1, x2])\n",
    "    w = np.array([-0.5, -0.5]) # 가중치와 편향 설정이 AND와 다름\n",
    "    b = 0.7\n",
    "    \n",
    "    tmp = np.sum(w * x) + b\n",
    "    \n",
    "    if tmp <= 0:\n",
    "        return 0\n",
    "    else:\n",
    "        return 1"
   ]
  },
  {
   "cell_type": "markdown",
   "id": "78a33f7b-61a6-4a97-bd0f-2a358f79b699",
   "metadata": {},
   "source": [
    "## # OR 구현"
   ]
  },
  {
   "cell_type": "code",
   "execution_count": 22,
   "id": "04f7d6e4-0dc0-43d2-97a3-3d501f6f5ae2",
   "metadata": {},
   "outputs": [],
   "source": [
    "def OR(x1, x2):\n",
    "    x = np.array([x1, x2])\n",
    "    w = np.array([0.5, 0.5]) # 가중치와 편향 설정이 AND와 다름\n",
    "    b = -0.2\n",
    "    \n",
    "    tmp = np.sum(w * x) + b\n",
    "    \n",
    "    if tmp <= 0:\n",
    "        return 0\n",
    "    else:\n",
    "        return 1"
   ]
  },
  {
   "cell_type": "markdown",
   "id": "39dacfb3-ba7f-4b06-8005-dd80d00c16a5",
   "metadata": {},
   "source": [
    "# 다층 퍼셉트론\n",
    "## # XOR 게이트 구현"
   ]
  },
  {
   "cell_type": "code",
   "execution_count": 23,
   "id": "5ece1329-78f7-4d44-bfdf-ed846fef733e",
   "metadata": {},
   "outputs": [
    {
     "name": "stdout",
     "output_type": "stream",
     "text": [
      "0\n",
      "1\n",
      "1\n",
      "0\n"
     ]
    }
   ],
   "source": [
    "def XOR(x1, x2):\n",
    "    s1 = NAND(x1, x2)\n",
    "    s2 = OR(x1, x2)\n",
    "    y = AND(s1, s2)\n",
    "    \n",
    "    return y\n",
    "\n",
    "print(XOR(0, 0))\n",
    "print(XOR(1, 0))\n",
    "print(XOR(0, 1))\n",
    "print(XOR(1, 1))"
   ]
  },
  {
   "cell_type": "markdown",
   "id": "64dfdcc3-1ab1-44fb-88ee-9d8896c51854",
   "metadata": {},
   "source": [
    "# Homework\n",
    "- 다른 값으로 NAND, OR, NOR까지 구현\n",
    "- NAND게이트만으로 OR게이트 구현"
   ]
  },
  {
   "cell_type": "code",
   "execution_count": 24,
   "id": "e1b938a2-6334-41c0-9b6c-aee3ae76c4d3",
   "metadata": {},
   "outputs": [
    {
     "name": "stdout",
     "output_type": "stream",
     "text": [
      "0\n",
      "0\n",
      "0\n",
      "1\n"
     ]
    }
   ],
   "source": [
    "def AND(x1, x2):\n",
    "    x = np.array([x1, x2])\n",
    "    w = np.array([0.7, 0.6])\n",
    "    b = -1.0\n",
    "    tmp = np.sum(w * x) + b\n",
    "    return int(tmp > 0)\n",
    "\n",
    "print(AND(0, 0))\n",
    "print(AND(1, 0))\n",
    "print(AND(0, 1))\n",
    "print(AND(1, 1))"
   ]
  },
  {
   "cell_type": "code",
   "execution_count": 25,
   "id": "40c13e4f-36d2-4e8f-a151-01256ccb3c6b",
   "metadata": {},
   "outputs": [
    {
     "name": "stdout",
     "output_type": "stream",
     "text": [
      "1\n",
      "1\n",
      "1\n",
      "0\n"
     ]
    }
   ],
   "source": [
    "def NAND(x1, x2):\n",
    "    x = np.array([x1, x2])\n",
    "    w = np.array([-0.7, -0.6])  # AND의 반대\n",
    "    b = 1.0                     # 반대로 조정\n",
    "    tmp = np.sum(w * x) + b\n",
    "    return int(tmp > 0)\n",
    "\n",
    "print(NAND(0, 0))\n",
    "print(NAND(1, 0))\n",
    "print(NAND(0, 1))\n",
    "print(NAND(1, 1))"
   ]
  },
  {
   "cell_type": "code",
   "execution_count": 26,
   "id": "81cfce38-610c-4981-b632-3d3182480205",
   "metadata": {},
   "outputs": [
    {
     "name": "stdout",
     "output_type": "stream",
     "text": [
      "0\n",
      "1\n",
      "1\n",
      "1\n"
     ]
    }
   ],
   "source": [
    "def OR(x1, x2):\n",
    "    x = np.array([x1, x2])\n",
    "    w = np.array([0.7, 0.6])    # 동일한 가중치\n",
    "    b = -0.5                    # 더 쉽게 활성화되도록 임계값 완화\n",
    "    tmp = np.sum(w * x) + b\n",
    "    return int(tmp > 0)\n",
    "\n",
    "print(OR(0, 0))\n",
    "print(OR(1, 0))\n",
    "print(OR(0, 1))\n",
    "print(OR(1, 1))"
   ]
  },
  {
   "cell_type": "code",
   "execution_count": 27,
   "id": "5712ac09-3d14-4859-ab6d-21404cefe778",
   "metadata": {},
   "outputs": [
    {
     "name": "stdout",
     "output_type": "stream",
     "text": [
      "1\n",
      "0\n",
      "0\n",
      "0\n"
     ]
    }
   ],
   "source": [
    "def NOR(x1, x2):\n",
    "    x = np.array([x1, x2])\n",
    "    w = np.array([-0.7, -0.6])  # OR의 반대\n",
    "    b = 0.5                     # 낮게 설정\n",
    "    tmp = np.sum(w * x) + b\n",
    "    return int(tmp > 0)\n",
    "\n",
    "print(NOR(0, 0))\n",
    "print(NOR(1, 0))\n",
    "print(NOR(0, 1))\n",
    "print(NOR(1, 1))"
   ]
  },
  {
   "cell_type": "code",
   "execution_count": 28,
   "id": "0ff8a66e-6e61-4fd8-ac90-250d41890a72",
   "metadata": {},
   "outputs": [],
   "source": [
    "# 논리적 정답을 만들기 위해, NAND() 함수가 다음을 만족해야 함\n",
    "# x1\tx2\tNAND\n",
    "# 0 \t0\t 1\n",
    "# 0\t    1\t 1\n",
    "# 1\t    0\t 1\n",
    "# 1\t    1\t 0"
   ]
  },
  {
   "cell_type": "code",
   "execution_count": 29,
   "id": "164bd294-6817-4283-9c7d-52bc987c17dd",
   "metadata": {},
   "outputs": [
    {
     "name": "stdout",
     "output_type": "stream",
     "text": [
      "1\n",
      "1\n",
      "1\n",
      "0\n"
     ]
    }
   ],
   "source": [
    "def NAND(x1, x2):\n",
    "    x = np.array([x1, x2])\n",
    "    w = np.array([-1.0, -1.0])\n",
    "    b = 1.5\n",
    "    tmp = np.sum(w * x) + b\n",
    "    return int(tmp > 0)\n",
    "\n",
    "print(NAND(0, 0))\n",
    "print(NAND(1, 0))\n",
    "print(NAND(0, 1))\n",
    "print(NAND(1, 1))\n",
    "\n",
    "# 논리적 정답을 만들기 위해, NAND() 함수가 다음을 만족해야 함\n",
    "# x1\tx2\tNAND\n",
    "# 0 \t0\t 1\n",
    "# 0\t    1\t 1\n",
    "# 1\t    0\t 1\n",
    "# 1\t    1\t 0"
   ]
  },
  {
   "cell_type": "code",
   "execution_count": 30,
   "id": "ca38e76f-f153-4517-a64e-419de5127176",
   "metadata": {},
   "outputs": [
    {
     "name": "stdout",
     "output_type": "stream",
     "text": [
      "0\n",
      "1\n",
      "1\n",
      "1\n"
     ]
    }
   ],
   "source": [
    "def OR_by_NAND(x1, x2):\n",
    "    not_x1 = NAND(x1, x1)\n",
    "    not_x2 = NAND(x2, x2)\n",
    "    return NAND(not_x1, not_x2)\n",
    "\n",
    "print(OR_by_NAND(0, 0))\n",
    "print(OR_by_NAND(1, 0))\n",
    "print(OR_by_NAND(0, 1))\n",
    "print(OR_by_NAND(1, 1))\n",
    "# OR게이트와 동일한 값 출력"
   ]
  },
  {
   "cell_type": "code",
   "execution_count": null,
   "id": "b11db407-8fad-4f5a-8238-50c06736bece",
   "metadata": {},
   "outputs": [],
   "source": []
  }
 ],
 "metadata": {
  "kernelspec": {
   "display_name": "Python 3 (ipykernel)",
   "language": "python",
   "name": "python3"
  },
  "language_info": {
   "codemirror_mode": {
    "name": "ipython",
    "version": 3
   },
   "file_extension": ".py",
   "mimetype": "text/x-python",
   "name": "python",
   "nbconvert_exporter": "python",
   "pygments_lexer": "ipython3",
   "version": "3.11.7"
  }
 },
 "nbformat": 4,
 "nbformat_minor": 5
}
