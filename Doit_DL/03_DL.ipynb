{
 "cells": [
  {
   "cell_type": "markdown",
   "id": "39d9a741-312b-4822-9463-b4719d27f815",
   "metadata": {},
   "source": [
    "ffffffffffff"
   ]
  },
  {
   "cell_type": "code",
   "execution_count": 2,
   "id": "b3061f2e-dfe6-40bb-bbf2-0bcf47b47d6d",
   "metadata": {},
   "outputs": [],
   "source": [
    "###"
   ]
  },
  {
   "cell_type": "markdown",
   "id": "f91f3931-c020-4bea-b38d-a08e36f08c70",
   "metadata": {},
   "source": [
    "hggjj"
   ]
  },
  {
   "cell_type": "code",
   "execution_count": 1,
   "id": "432a225b-36b8-48fe-ae98-cdd9d3cd22f9",
   "metadata": {},
   "outputs": [],
   "source": [
    "### ghgh"
   ]
  },
  {
   "cell_type": "code",
   "execution_count": 3,
   "id": "03c131a5-a5c8-4455-8ccc-1f456115f139",
   "metadata": {},
   "outputs": [],
   "source": [
    "# djkfkdjf"
   ]
  },
  {
   "cell_type": "markdown",
   "id": "ba9eb232-5284-4b5f-8939-a82925480b0b",
   "metadata": {},
   "source": [
    "\\\n",
    "dfjkjfasdkfjdflajsdfjdsighd"
   ]
  },
  {
   "cell_type": "code",
   "execution_count": 4,
   "id": "9eea5297-8313-4802-a800-3593a218f695",
   "metadata": {},
   "outputs": [],
   "source": [
    "####"
   ]
  },
  {
   "cell_type": "code",
   "execution_count": 5,
   "id": "121cdf8d-c577-4a49-b5b6-7e65e8f0ca4a",
   "metadata": {},
   "outputs": [],
   "source": [
    "####44544\n"
   ]
  },
  {
   "cell_type": "code",
   "execution_count": 6,
   "id": "25afc857-00c7-4123-bd28-049092b8b50d",
   "metadata": {},
   "outputs": [],
   "source": [
    "####\n"
   ]
  },
  {
   "cell_type": "markdown",
   "id": "4416522c-abb0-45ca-8ca4-451ddc535604",
   "metadata": {},
   "source": [
    "# 12fifjd"
   ]
  },
  {
   "cell_type": "code",
   "execution_count": null,
   "id": "ecc6b4b5-76b5-4f02-a4cb-1a3875e94f18",
   "metadata": {},
   "outputs": [],
   "source": []
  }
 ],
 "metadata": {
  "kernelspec": {
   "display_name": "Python 3 (ipykernel)",
   "language": "python",
   "name": "python3"
  },
  "language_info": {
   "codemirror_mode": {
    "name": "ipython",
    "version": 3
   },
   "file_extension": ".py",
   "mimetype": "text/x-python",
   "name": "python",
   "nbconvert_exporter": "python",
   "pygments_lexer": "ipython3",
   "version": "3.11.7"
  }
 },
 "nbformat": 4,
 "nbformat_minor": 5
}
