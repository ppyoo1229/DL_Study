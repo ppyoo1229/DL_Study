{
 "cells": [
  {
   "cell_type": "markdown",
   "id": "39d9a741-312b-4822-9463-b4719d27f815",
   "metadata": {},
   "source": [
    "ffffffffffff"
   ]
  },
  {
   "cell_type": "code",
   "execution_count": 2,
   "id": "b3061f2e-dfe6-40bb-bbf2-0bcf47b47d6d",
   "metadata": {},
   "outputs": [],
   "source": [
    "###"
   ]
  },
  {
   "cell_type": "code",
   "execution_count": null,
   "id": "860e69be-2732-4a98-8ff8-636d60ce1a09",
   "metadata": {},
   "outputs": [],
   "source": []
  }
 ],
 "metadata": {
  "kernelspec": {
   "display_name": "Python 3 (ipykernel)",
   "language": "python",
   "name": "python3"
  },
  "language_info": {
   "codemirror_mode": {
    "name": "ipython",
    "version": 3
   },
   "file_extension": ".py",
   "mimetype": "text/x-python",
   "name": "python",
   "nbconvert_exporter": "python",
   "pygments_lexer": "ipython3",
   "version": "3.11.7"
  }
 },
 "nbformat": 4,
 "nbformat_minor": 5
}
