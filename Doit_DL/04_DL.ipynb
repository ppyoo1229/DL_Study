{
 "cells": [
  {
   "cell_type": "markdown",
   "id": "ea6fc649-46d7-4b72-92ac-9d0ffd3af74f",
   "metadata": {},
   "source": [
    "# 1. 퍼셉트론 "
   ]
  },
  {
   "cell_type": "code",
   "execution_count": null,
   "id": "1ab7baec-c1d8-4cf1-b874-73d401a8d87e",
   "metadata": {},
   "outputs": [],
   "source": []
  }
 ],
 "metadata": {
  "kernelspec": {
   "display_name": "Python 3 (ipykernel)",
   "language": "python",
   "name": "python3"
  },
  "language_info": {
   "codemirror_mode": {
    "name": "ipython",
    "version": 3
   },
   "file_extension": ".py",
   "mimetype": "text/x-python",
   "name": "python",
   "nbconvert_exporter": "python",
   "pygments_lexer": "ipython3",
   "version": "3.11.7"
  }
 },
 "nbformat": 4,
 "nbformat_minor": 5
}
