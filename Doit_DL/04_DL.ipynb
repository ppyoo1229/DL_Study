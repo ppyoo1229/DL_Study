{
 "cells": [
  {
   "cell_type": "markdown",
   "id": "ea6fc649-46d7-4b72-92ac-9d0ffd3af74f",
   "metadata": {},
   "source": [
    "# 1. 퍼셉트론 "
   ]
  },
  {
   "cell_type": "markdown",
   "id": "5e2ea131-1f90-44dc-b3b6-38732fffe0d2",
   "metadata": {},
   "source": [
    "fjfkdjfkdfdf"
   ]
  },
  {
   "cell_type": "code",
   "execution_count": 2,
   "id": "4c33579c-0eb3-4181-a290-ea332a788f30",
   "metadata": {},
   "outputs": [],
   "source": [
    "# fjkdjfkdjfdj"
   ]
  },
  {
   "cell_type": "code",
   "execution_count": 3,
   "id": "5b51a4bb-d042-4079-af30-9a68eaec7ea1",
   "metadata": {},
   "outputs": [],
   "source": [
    "# jdfjdiudfdfdfk\n"
   ]
  },
  {
   "cell_type": "code",
   "execution_count": 4,
   "id": "c053117f-0acd-4eb4-bb1b-e121b79e0d7a",
   "metadata": {},
   "outputs": [],
   "source": [
    "# jdfjisdjod\n"
   ]
  },
  {
   "cell_type": "code",
   "execution_count": 5,
   "id": "70107088-b5c8-45b9-af9a-7569a2e5c105",
   "metadata": {},
   "outputs": [],
   "source": [
    "# fkjfidfdf\n"
   ]
  },
  {
   "cell_type": "code",
   "execution_count": 2,
   "id": "10262466-939f-4b0a-b306-468ecd40c5f7",
   "metadata": {},
   "outputs": [],
   "source": [
    "# ffff"
   ]
  },
  {
   "cell_type": "code",
   "execution_count": null,
   "id": "d7a1c094-c122-4f36-853f-b9d60845029f",
   "metadata": {},
   "outputs": [],
   "source": []
  }
 ],
 "metadata": {
  "kernelspec": {
   "display_name": "Python 3 (ipykernel)",
   "language": "python",
   "name": "python3"
  },
  "language_info": {
   "codemirror_mode": {
    "name": "ipython",
    "version": 3
   },
   "file_extension": ".py",
   "mimetype": "text/x-python",
   "name": "python",
   "nbconvert_exporter": "python",
   "pygments_lexer": "ipython3",
   "version": "3.11.7"
  }
 },
 "nbformat": 4,
 "nbformat_minor": 5
}
